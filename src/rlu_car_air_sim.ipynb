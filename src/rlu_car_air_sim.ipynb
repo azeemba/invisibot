{
 "metadata": {
  "language_info": {
   "codemirror_mode": {
    "name": "ipython",
    "version": 3
   },
   "file_extension": ".py",
   "mimetype": "text/x-python",
   "name": "python",
   "nbconvert_exporter": "python",
   "pygments_lexer": "ipython3",
   "version": 3
  },
  "orig_nbformat": 2,
  "kernelspec": {
   "name": "python_defaultSpec_1595388527309",
   "display_name": "Python 3.7.6 64-bit ('.venv': venv)"
  }
 },
 "nbformat": 4,
 "nbformat_minor": 2,
 "cells": [
  {
   "cell_type": "code",
   "execution_count": 6,
   "metadata": {},
   "outputs": [],
   "source": [
    "from math import atan2, pi, fmod, ceil\n",
    "from time import monotonic\n",
    "from rlbot.utils.game_state_util import Rotator\n",
    "from rlbot.agents.base_agent import SimpleControllerState\n",
    "\n",
    "from rlutilities.linear_algebra import (\n",
    "    vec3 as rlu_vec3\n",
    ")\n",
    "from rlutilities.simulation import Game, Car, Field, Input\n",
    "\n",
    "from util.vec import Vec3\n",
    "from util.orientation import Orientation\n"
   ]
  },
  {
   "cell_type": "code",
   "execution_count": 25,
   "metadata": {},
   "outputs": [],
   "source": [
    "c = Car()\n",
    "c.position = rlu_vec3(100, 200, 17)\n",
    "c.velocity = rlu_vec3(0, 0, 0)\n",
    "c.angular_velocity = rlu_vec3(0, 0, 0)\n",
    "c.orientation = Orientation(Rotator(0 , 0, 0)).to_rot_mat()\n",
    "\n",
    "c.boost = 100\n",
    "c.jumped = False\n",
    "c.double_jumped = False\n",
    "c.on_ground = True\n",
    "c.team = 0\n",
    "c.time = monotonic()"
   ]
  },
  {
   "cell_type": "code",
   "execution_count": 26,
   "metadata": {
    "tags": []
   },
   "outputs": [
    {
     "output_type": "stream",
     "name": "stdout",
     "text": "100.000000 200.000000 21.680561\nFalse\nTrue\n"
    }
   ],
   "source": [
    "i = Input()\n",
    "i.jump = True\n",
    "i.boost = True\n",
    "\n",
    "c.step(i, 1.0/60.0)\n",
    "print(c.position)\n",
    "print(c.on_ground)\n",
    "print(c.jumped)"
   ]
  },
  {
   "cell_type": "code",
   "execution_count": 27,
   "metadata": {
    "tags": []
   },
   "outputs": [
    {
     "output_type": "stream",
     "name": "stdout",
     "text": "100.152779 200.000000 26.484386\n100.599998 200.000000 31.512749\n101.341667 200.000000 36.765648\n102.377777 200.000000 42.243084\n103.708336 200.000000 47.945053\n105.333336 200.000000 53.871559\n107.252777 200.000000 60.022602\n109.466667 200.000000 66.398186\n111.974998 200.000000 72.998306\n114.777779 200.000000 79.822960\n117.875000 200.000000 86.872154\n121.266670 200.000000 94.145882\n124.952782 200.000000 101.239052\n128.933334 200.000000 108.151665\n133.208328 200.000000 114.883728\n137.777771 200.000000 121.435234\n142.641663 200.000000 127.806183\n147.800003 200.000000 133.996582\n153.252777 200.000000 140.006424\n159.000000 200.000000 145.835709\n165.041672 200.000000 151.484436\n171.377777 200.000000 156.952606\n178.008331 200.000000 162.240219\n184.933334 200.000000 167.347275\n192.152771 200.000000 172.273773\n199.666656 200.000000 177.019714\n207.474991 200.000000 181.585114\n215.577774 200.000000 185.969955\n223.974991 200.000000 190.174240\n232.666656 200.000000 194.197968\n241.652771 200.000000 198.041138\n250.933319 200.000000 201.703751\n260.508331 200.000000 205.185806\n270.377777 200.000000 208.487305\n280.541656 200.000000 211.608246\n291.000000 200.000000 214.548645\n301.752777 200.000000 217.308487\n312.799988 200.000000 219.887772\n324.141663 200.000000 222.286499\n335.777771 200.000000 224.504669\n347.708344 200.000000 226.542282\n359.933350 200.000000 228.399338\n372.452789 200.000000 230.075836\n385.266693 200.000000 231.571777\n398.375031 200.000000 232.887177\n411.777802 200.000000 234.022018\n425.475037 200.000000 234.976303\n439.466705 200.000000 235.750031\n453.752808 200.000000 236.343201\n468.333374 200.000000 236.755814\n483.208374 200.000000 236.987869\n498.377838 200.000000 237.039368\n513.841736 200.000000 236.910309\n529.600098 200.000000 236.600708\n545.652893 200.000000 236.110550\n562.000122 200.000000 235.439835\n578.641785 200.000000 234.588562\n595.577881 200.000000 233.556732\n612.808472 200.000000 232.344345\n630.333496 200.000000 230.951401\n"
    }
   ],
   "source": [
    "for idx in range(60):\n",
    "    c.step(i, 1.0/60.0)\n",
    "    print(c.position)"
   ]
  },
  {
   "cell_type": "code",
   "execution_count": 11,
   "metadata": {
    "tags": []
   },
   "outputs": [
    {
     "output_type": "stream",
     "name": "stdout",
     "text": "100.000000 200.000000 21.680561\n"
    }
   ],
   "source": []
  },
  {
   "cell_type": "code",
   "execution_count": null,
   "metadata": {},
   "outputs": [],
   "source": []
  }
 ]
}