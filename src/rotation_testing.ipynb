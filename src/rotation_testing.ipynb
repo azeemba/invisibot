{
 "metadata": {
  "language_info": {
   "codemirror_mode": {
    "name": "ipython",
    "version": 3
   },
   "file_extension": ".py",
   "mimetype": "text/x-python",
   "name": "python",
   "nbconvert_exporter": "python",
   "pygments_lexer": "ipython3",
   "version": 3
  },
  "orig_nbformat": 2,
  "kernelspec": {
   "name": "python_defaultSpec_1595478044916",
   "display_name": "Python 3.7.6 64-bit ('.venv': venv)"
  }
 },
 "nbformat": 4,
 "nbformat_minor": 2,
 "cells": [
  {
   "cell_type": "code",
   "execution_count": 1,
   "metadata": {},
   "outputs": [],
   "source": [
    "from math import atan2, pi, fmod, ceil\n",
    "\n",
    "from rlbot.utils.game_state_util import Rotator, Vector3, Physics\n",
    "from rlbot.agents.base_agent import SimpleControllerState\n",
    "\n",
    "from rlutilities.linear_algebra import (\n",
    "    vec3 as rlu_vec3,\n",
    "    euler_to_rotation,\n",
    "    mat3,\n",
    "    mat4,\n",
    "    dot,\n",
    "    norm,\n",
    "    vec2 as rlu_vec2,\n",
    "    vec4 as rlu_vec4,\n",
    "    transpose,\n",
    "    angle_between,\n",
    "    axis_to_rotation,\n",
    "    normalize,\n",
    "    cross,\n",
    ")\n",
    "from rlutilities.simulation import Game, Field, obb\n",
    "\n",
    "from util.vec import Vec3\n",
    "from util.orientation import Orientation\n"
   ]
  },
  {
   "cell_type": "code",
   "execution_count": 2,
   "metadata": {},
   "outputs": [],
   "source": [
    "def to_rlu_vec(v) -> rlu_vec3:\n",
    "    return rlu_vec3(v.x, v.y, v.z)\n",
    "\n",
    "\n",
    "def rlu_to_Vec3(v) -> Vec3:\n",
    "    return Vec3(v[0], v[1], v[2])\n",
    "\n",
    "def rotate_vector(v: Vec3, r: mat3, around: Vec3=None) -> Vec3:\n",
    "    out = dot(r,to_rlu_vec(v))\n",
    "    return Vec3(out[0], out[1], out[2])\n",
    "\n",
    "def rotate_vector(v: Vec3, r: mat3, around: Vec3=None) -> Vec3:\n",
    "    out = dot(r,to_rlu_vec(v))\n",
    "    return Vec3(out[0], out[1], out[2])\n",
    "\n"
   ]
  },
  {
   "cell_type": "code",
   "execution_count": 5,
   "metadata": {},
   "outputs": [
    {
     "output_type": "execute_result",
     "data": {
      "text/plain": "Vec3(1.00, 2.00, 3.00)"
     },
     "metadata": {},
     "execution_count": 5
    }
   ],
   "source": [
    "rotate_vector(Vec3(1, 2, 3), Orientation(Rotator(0, 0, 0)).to_rot_mat())"
   ]
  },
  {
   "cell_type": "code",
   "execution_count": 6,
   "metadata": {},
   "outputs": [
    {
     "output_type": "execute_result",
     "data": {
      "text/plain": "Vec3(-2.00, 1.00, 3.00)"
     },
     "metadata": {},
     "execution_count": 6
    }
   ],
   "source": [
    "rotate_vector(Vec3(1, 2, 3), Orientation(Rotator(0, pi/2, 0)).to_rot_mat())"
   ]
  },
  {
   "cell_type": "code",
   "execution_count": null,
   "metadata": {},
   "outputs": [],
   "source": []
  },
  {
   "cell_type": "code",
   "execution_count": 22,
   "metadata": {},
   "outputs": [],
   "source": [
    "def rot_unrot_(x, y, z, rot):\n",
    "    v = Vec3(x, y, z)\n",
    "    o = Orientation(rot)\n",
    "    rot_mat = o.to_rot_mat()\n",
    "\n",
    "    rotated = rotate_vector(v, rot_mat)\n",
    "    unrotated = rotate_vector(rotated, transpose(rot_mat))\n",
    "    \n",
    "    print(f\"{v} {unrotated}. Inbetween: {rotated}\")\n",
    "def rot_unrot(x, y, z, yaw): \n",
    "    rot_unrot_(x,y,z, Rotator(0, yaw, 0))"
   ]
  },
  {
   "cell_type": "code",
   "execution_count": 23,
   "metadata": {
    "tags": []
   },
   "outputs": [
    {
     "output_type": "stream",
     "name": "stdout",
     "text": "Vec3(1.00, 2.00, 3.00) Vec3(1.00, 2.00, 3.00). Inbetween: Vec3(1.00, 2.00, 3.00)\nVec3(1.00, 2.00, 3.00) Vec3(1.00, 2.00, 3.00). Inbetween: Vec3(-2.00, 1.00, 3.00)\n"
    }
   ],
   "source": [
    "rot_unrot(1, 2, 3, 0)\n",
    "rot_unrot(1, 2, 3, pi/2)"
   ]
  },
  {
   "cell_type": "code",
   "execution_count": 28,
   "metadata": {
    "tags": []
   },
   "outputs": [
    {
     "output_type": "stream",
     "name": "stdout",
     "text": "Vec3(1.00, 2.00, 3.00) Vec3(1.00, 2.00, 3.00). Inbetween: Vec3(-1.00, 2.00, -3.00)\nVec3(1.00, 2.00, 3.00) Vec3(1.00, 2.00, 3.00). Inbetween: Vec3(-2.23, 0.13, -3.00)\nVec3(1.00, 2.00, 3.00) Vec3(1.00, 2.00, 3.00). Inbetween: Vec3(-1.00, 0.23, -3.60)\nVec3(1.00, 2.00, 3.00) Vec3(1.00, 2.00, 3.00). Inbetween: Vec3(3.60, 0.23, -1.00)\n"
    }
   ],
   "source": [
    "rot_unrot_(1, 2, 3, Rotator(pi, 0, 0))\n",
    "rot_unrot_(1, 2, 3, Rotator(pi, pi/3, 0))\n",
    "rot_unrot_(1, 2, 3, Rotator(pi, 0, -pi/6))\n",
    "rot_unrot_(1, 2, 3, Rotator(pi*3/2, -pi/2, pi/3))\n"
   ]
  },
  {
   "cell_type": "code",
   "execution_count": 35,
   "metadata": {},
   "outputs": [],
   "source": [
    "# Lets test adding rotation\n",
    "def add_rots(orig, second):\n",
    "    orig_rot_mat = Orientation(orig).to_rot_mat()\n",
    "    rot_mat_upd: mat3 = Orientation(second).to_rot_mat()\n",
    "\n",
    "    rot_mat = dot(rot_mat_upd, orig_rot_mat)\n",
    "    rot = rot_mat_to_rot(rot_mat)\n",
    "\n",
    "    print(f\"{rot.pitch}, {rot.yaw}, {rot.roll}\")\n",
    "\n",
    "def rot_mat_to_rot(theta: mat3) -> Rotator:\n",
    "    pitch = atan2(theta[(2, 0)], norm(rlu_vec2(theta[(0, 0)], theta[(1, 0)])))\n",
    "    yaw = atan2(theta[(1, 0)], theta[(0, 0)])\n",
    "    roll = atan2(-theta[(2, 1)], theta[(2, 2)])\n",
    "    return Rotator(pitch, yaw, roll)\n"
   ]
  },
  {
   "cell_type": "code",
   "execution_count": 38,
   "metadata": {
    "tags": []
   },
   "outputs": [
    {
     "output_type": "stream",
     "name": "stdout",
     "text": "0.0, 0.7000000163252541, -0.0\n0.0, 0.20000000922679514, -0.0\n"
    }
   ],
   "source": [
    "add_rots(Rotator(0, 0.5, 0), Rotator(0, 0.2, 0))\n",
    "add_rots(Rotator(0, 0.5, 0), Rotator(0, -0.3, 0))"
   ]
  },
  {
   "cell_type": "code",
   "execution_count": 39,
   "metadata": {
    "tags": []
   },
   "outputs": [
    {
     "output_type": "stream",
     "name": "stdout",
     "text": "0.9999999593317271, 0.7000000159777006, -0.0\n"
    }
   ],
   "source": [
    "add_rots(Rotator(1, 0.5, 0), Rotator(0, 0.2, 0))"
   ]
  },
  {
   "cell_type": "code",
   "execution_count": 40,
   "metadata": {
    "tags": []
   },
   "outputs": [
    {
     "output_type": "stream",
     "name": "stdout",
     "text": "0.9999999593317271, 0.499999985496137, -0.0\n"
    }
   ],
   "source": [
    "add_rots(Rotator(1, 0.5, 0), Rotator(0, 0, 0))"
   ]
  },
  {
   "cell_type": "code",
   "execution_count": null,
   "metadata": {},
   "outputs": [],
   "source": []
  },
  {
   "cell_type": "code",
   "execution_count": 8,
   "metadata": {},
   "outputs": [
    {
     "output_type": "execute_result",
     "data": {
      "text/plain": "Vec3(-3.00, 2.00, 1.00)"
     },
     "metadata": {},
     "execution_count": 8
    }
   ],
   "source": [
    "z"
   ]
  },
  {
   "cell_type": "markdown",
   "metadata": {},
   "source": [
    "# Goal: Rotate to match \"up\"\n",
    "\n",
    "We want to take an orientation and rotate it so that it's\n",
    "up matches the normal. This may mean adjusting pitch\n",
    "or roll but we want to not lock the yaw"
   ]
  },
  {
   "cell_type": "code",
   "execution_count": 65,
   "metadata": {},
   "outputs": [],
   "source": [
    "def rot_mat_to_rot(theta: mat3) -> Rotator:\n",
    "    pitch = atan2(theta[(2, 0)], norm(rlu_vec2(theta[(0, 0)], theta[(1, 0)])))\n",
    "    yaw = atan2(theta[(1, 0)], theta[(0, 0)])\n",
    "    roll = atan2(-theta[(2, 1)], theta[(2, 2)])\n",
    "    return Rotator(pitch, yaw, roll)\n",
    "\n",
    "def printO(o: Orientation):\n",
    "    print(f\"f: {o.forward}, r: {o.right}, u: {o.up}\")"
   ]
  },
  {
   "cell_type": "code",
   "execution_count": 14,
   "metadata": {},
   "outputs": [
    {
     "output_type": "execute_result",
     "data": {
      "text/plain": "0.05549851804971695"
     },
     "metadata": {},
     "execution_count": 14
    }
   ],
   "source": [
    "# Case where normal and up match already\n",
    "o = Orientation(Rotator(0, pi/2, 0))\n",
    "n = Vec3(0, -0.05, 0.9).normalized()\n",
    "\n",
    "\n",
    "angle_between(to_rlu_vec(o.up), to_rlu_vec(n))"
   ]
  },
  {
   "cell_type": "code",
   "execution_count": 15,
   "metadata": {
    "tags": []
   },
   "outputs": [
    {
     "output_type": "stream",
     "name": "stdout",
     "text": "0.000000 -1.000000 -0.000000\n1.000000 0.000000 0.000000\n0.000000 -0.000000 1.000000\n\n-0.000000 -1.000000 0.000000\n1.000000 -0.000000 -0.000000\n0.000000 -0.000000 1.000000\n\n1.000000 0.000000 0.000000\n0.000000 1.000000 0.000000\n0.000000 0.000000 1.000000\n\n"
    }
   ],
   "source": [
    "print(o.to_rot_mat())\n",
    "print(euler_to_rotation(rlu_vec3(0, pi/2, 0)))\n",
    "print(dot(o.to_rot_mat(), transpose(o.to_rot_mat())))"
   ]
  },
  {
   "cell_type": "code",
   "execution_count": 68,
   "metadata": {
    "tags": []
   },
   "outputs": [
    {
     "output_type": "stream",
     "name": "stdout",
     "text": "f: Vec3(0.00, 0.00, 1.00), r: Vec3(1.00, 0.00, -0.00), u: Vec3(-0.00, 1.00, 0.00)\nf: Vec3(0.00, 0.00, 1.00), r: Vec3(0.00, 1.00, -0.00), u: Vec3(-1.00, 0.00, 0.00)\n"
    },
    {
     "output_type": "execute_result",
     "data": {
      "text/plain": "(1.5707963267948966, 0.0, 6.123234262925839e-17)"
     },
     "metadata": {},
     "execution_count": 68
    }
   ],
   "source": [
    "orig = o.to_rot_mat()\n",
    "r = rot_mat_to_rot(mat3(\n",
    "    orig[0, 0], orig[0, 1], n.x,\n",
    "    orig[1, 0], orig[1, 1], n.y,\n",
    "    orig[2, 0], orig[2, 1], n.z\n",
    "))\n",
    "printO(o)\n",
    "printO(Orientation(r))\n",
    "(r.pitch, r.yaw, r.roll)\n",
    "# didn't work"
   ]
  },
  {
   "cell_type": "code",
   "execution_count": 66,
   "metadata": {
    "tags": []
   },
   "outputs": [
    {
     "output_type": "stream",
     "name": "stdout",
     "text": "f: Vec3(0.00, 0.00, 1.00), r: Vec3(1.00, 0.00, -0.00), u: Vec3(-0.00, 1.00, 0.00)\nf: Vec3(0.00, -1.00, -0.00), r: Vec3(1.00, 0.00, 0.00), u: Vec3(-0.00, -0.00, 1.00)\n"
    },
    {
     "output_type": "execute_result",
     "data": {
      "text/plain": "(-4.37113882867379e-08, -1.5707963267948966, -2.6765506200124328e-24)"
     },
     "metadata": {},
     "execution_count": 66
    }
   ],
   "source": [
    "def rotate_by_axis(o, n):\n",
    "    normal = n\n",
    "    orientation = o\n",
    "    angle = angle_between(to_rlu_vec(normal), to_rlu_vec(orientation.up))\n",
    "    rotate_axis = cross(to_rlu_vec(normal), to_rlu_vec(orientation.up))\n",
    "    ortho = (\n",
    "        normalize(rotate_axis) * -angle\n",
    "    )\n",
    "    rot_mat_initial: mat3 = orientation.to_rot_mat()\n",
    "    rot_mat_adj = axis_to_rotation(ortho)\n",
    "\n",
    "    rot_mat = dot(rot_mat_adj, rot_mat_initial )\n",
    "    r = rot_mat_to_rot(rot_mat)\n",
    "    printO(o)\n",
    "    printO(Orientation(r))\n",
    "    return r\n",
    "\n",
    "r = rotate_by_axis(o, n)\n",
    "(r.pitch, r.yaw, r.roll)\n"
   ]
  },
  {
   "cell_type": "code",
   "execution_count": 69,
   "metadata": {
    "tags": []
   },
   "outputs": [
    {
     "output_type": "stream",
     "name": "stdout",
     "text": "f: Vec3(0.00, 0.00, 1.00), r: Vec3(0.00, 1.00, -0.00), u: Vec3(-1.00, 0.00, 0.00)\nf: Vec3(1.00, 0.00, -0.00), r: Vec3(-0.00, 1.00, 0.00), u: Vec3(0.00, -0.00, 1.00)\n"
    },
    {
     "output_type": "execute_result",
     "data": {
      "text/plain": "(-4.37113882867379e-08, 6.123233601181349e-17, -2.6765506200124328e-24)"
     },
     "metadata": {},
     "execution_count": 69
    }
   ],
   "source": [
    "r = rotate_by_axis(\n",
    "    Orientation(Rotator(pi/2, pi/2, pi/2)), # on the wall, facing up\n",
    "    Vec3(0, 0, 1)\n",
    ")\n",
    "(r.pitch, r.yaw, r.roll)"
   ]
  },
  {
   "cell_type": "code",
   "execution_count": 70,
   "metadata": {
    "tags": []
   },
   "outputs": [
    {
     "output_type": "stream",
     "name": "stdout",
     "text": "f: Vec3(0.00, 0.00, 1.00), r: Vec3(1.00, 0.00, -0.00), u: Vec3(-0.00, 1.00, 0.00)\nf: Vec3(0.00, -1.00, -0.00), r: Vec3(1.00, 0.00, 0.00), u: Vec3(-0.00, -0.00, 1.00)\n"
    },
    {
     "output_type": "execute_result",
     "data": {
      "text/plain": "(-4.37113882867379e-08, -1.5707963267948966, -2.6765506200124328e-24)"
     },
     "metadata": {},
     "execution_count": 70
    }
   ],
   "source": [
    "o = Orientation(Rotator(pi/2, 0, pi/2)) # on the wall, facing up\n",
    "r = rotate_by_axis(\n",
    "    o,\n",
    "    Vec3(0, 0, 1)\n",
    ")\n",
    "(r.pitch, r.yaw, r.roll)"
   ]
  },
  {
   "cell_type": "code",
   "execution_count": 63,
   "metadata": {
    "tags": []
   },
   "outputs": [
    {
     "output_type": "stream",
     "name": "stdout",
     "text": "0.000000 1.000000 -0.000000\n0.000000 0.000000 1.000000\n1.000000 -0.000000 0.000000\n\n"
    }
   ],
   "source": [
    "o = Orientation(Rotator(pi/2, 0, pi/2)) # on the wall, facing up\n",
    "print(o.to_rot_mat())\n",
    "n = Vec3(0, 0, 1)\n"
   ]
  },
  {
   "cell_type": "code",
   "execution_count": 56,
   "metadata": {
    "tags": []
   },
   "outputs": [
    {
     "output_type": "stream",
     "name": "stdout",
     "text": "Vec3(0.00, 0.00, 1.00)\nVec3(1.00, 0.00, 0.00)\n"
    }
   ],
   "source": [
    "o = Orientation(Rotator(pi/2, pi/2, pi/2))\n",
    "print(o.forward)\n",
    "o = Orientation(Rotator(0, 0, 0))\n",
    "print(o.forward)"
   ]
  },
  {
   "cell_type": "markdown",
   "metadata": {},
   "source": [
    "# Goal: Apply rotation "
   ]
  },
  {
   "cell_type": "code",
   "execution_count": 74,
   "metadata": {
    "tags": []
   },
   "outputs": [
    {
     "output_type": "stream",
     "name": "stdout",
     "text": "f: Vec3(0.00, 0.00, 1.00), r: Vec3(0.00, 1.00, -0.00), u: Vec3(-1.00, 0.00, 0.00)\nf: Vec3(-1.00, -0.00, 0.00), r: Vec3(0.00, -1.00, -0.00), u: Vec3(0.00, 0.00, 1.00)\nf: Vec3(0.00, -0.00, 1.00), r: Vec3(0.00, -1.00, -0.00), u: Vec3(1.00, 0.00, 0.00)\n"
    }
   ],
   "source": [
    "base_r = Rotator(pi/2, pi/2, pi/2)\n",
    "base_o = Orientation(base_r)\n",
    "printO(base_o)\n",
    "\n",
    "upd_r = Rotator(0, -pi, 0)\n",
    "upd_o = Orientation(upd_r)\n",
    "printO(upd_o)\n",
    "\n",
    "combined = dot(upd_o.to_rot_mat(), base_o.to_rot_mat())\n",
    "printO(Orientation.from_rot_mat(combined))"
   ]
  },
  {
   "cell_type": "code",
   "execution_count": 76,
   "metadata": {
    "tags": []
   },
   "outputs": [
    {
     "output_type": "stream",
     "name": "stdout",
     "text": "f: Vec3(0.00, -0.00, -1.00), r: Vec3(0.00, -1.00, 0.00), u: Vec3(-1.00, -0.00, 0.00)\n"
    }
   ],
   "source": [
    "# we want f: Vec3(0, 0, -1)\n",
    "combined = dot(base_o.to_rot_mat(), upd_o.to_rot_mat())\n",
    "printO(Orientation.from_rot_mat(combined))"
   ]
  },
  {
   "cell_type": "code",
   "execution_count": 3,
   "metadata": {
    "tags": []
   },
   "outputs": [
    {
     "output_type": "stream",
     "name": "stdout",
     "text": "0.0 1.0 2.0\n1.0\nNone\n"
    }
   ],
   "source": [
    "x = Vec3(0, 1, 2)\n",
    "print(*x)\n",
    "y = Vector3(*x)\n",
    "print(y.y)\n",
    "p = Physics()\n",
    "print(p.location)"
   ]
  },
  {
   "cell_type": "code",
   "execution_count": null,
   "metadata": {},
   "outputs": [],
   "source": []
  }
 ]
}